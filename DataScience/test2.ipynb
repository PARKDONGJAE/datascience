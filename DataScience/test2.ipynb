{
 "cells": [
  {
   "cell_type": "code",
   "execution_count": 3,
   "metadata": {},
   "outputs": [],
   "source": [
    "import pandas as pd\n",
    "import numpy as np\n",
    "from math import sqrt\n",
    "critics={\n",
    "  'BTS':{'암수살인':5, '바울':4, '할로윈':1.5},\n",
    "  '손흥민':{'바울':5, '할로윈':2},\n",
    "  '레드벨벳':{'암수살인':2.5, '바울':2, '할로윈':1},\n",
    "  '트와이스':{'암수살인':3.5, '바울':4, '할로윈':5}\n",
    "}\n"
   ]
  },
  {
   "cell_type": "code",
   "execution_count": 4,
   "metadata": {},
   "outputs": [],
   "source": [
    "df = pd.DataFrame(critics)"
   ]
  },
  {
   "cell_type": "code",
   "execution_count": 17,
   "metadata": {
    "scrolled": true
   },
   "outputs": [
    {
     "data": {
      "text/plain": [
       "암수살인     True\n",
       "바울      False\n",
       "할로윈     False\n",
       "Name: 손흥민, dtype: bool"
      ]
     },
     "execution_count": 17,
     "metadata": {},
     "output_type": "execute_result"
    }
   ],
   "source": [
    "df[\"손흥민\"].isnull()"
   ]
  },
  {
   "cell_type": "code",
   "execution_count": 20,
   "metadata": {},
   "outputs": [
    {
     "name": "stdout",
     "output_type": "stream",
     "text": [
      "BTS과 손흥민의 상관계수는1.0입니다.\n"
     ]
    }
   ],
   "source": [
    "def simPearson(data, name1, name2):\n",
    "    x = 0\n",
    "    y = 0\n",
    "    count = 0\n",
    "    sum = 0\n",
    "    x2 = 0\n",
    "    y2 = 0\n",
    "    for i in data[name1]:\n",
    "        for j in data[name2]:\n",
    "            if i==j:\n",
    "                count+=1 \n",
    "                x+=data[name1][i]\n",
    "                y+=data[name2][j]\n",
    "    meanx=x/count\n",
    "    meany=y/count\n",
    "    for i in data[name1]: \n",
    "        if i in data[name2]:             \n",
    "            sum+= (data[name1][i]-meanx)*(data[name2][i]-meany)#분자\n",
    "            x2+= pow((data[name1][i]-meanx),2)\n",
    "            y2+= pow((data[name2][i]-meany),2)\n",
    "    return print(name1+'과 ' + name2+'의 상관계수는' + str(sum/sqrt(x2*y2))+'입니다.')\n",
    "simPearson(critics, 'BTS', '손흥민')"
   ]
  },
  {
   "cell_type": "code",
   "execution_count": 21,
   "metadata": {},
   "outputs": [
    {
     "name": "stdout",
     "output_type": "stream",
     "text": [
      "1.0\n",
      "0.9986254289035241\n",
      "-0.998625428903524\n",
      "1.0\n",
      "-1.0\n",
      "-0.9999999999999998\n"
     ]
    }
   ],
   "source": [
    "from math import sqrt\n",
    "\n",
    "critics={\n",
    "    'BTS':{'암수살인':5, '바울':4, '할로윈':1.5},\n",
    "    '손흥민':{'바울':5, '할로윈':2},\n",
    "    '레드벨벳':{'암수살인':2.5, '바울':2, '할로윈':1},\n",
    "    '트와이스':{'암수살인':3.5, '바울':4, '할로윈':5}\n",
    "} \n",
    "\n",
    "# BTS, 손흥민 피어슨 상관계수?\n",
    "# BTS, 레드벨벳 피어슨 상관계수?\n",
    "# BTS, 트와이스 피어슨 상관계수?\n",
    "# 손흥민, 레드벨벳 피어슨 상관계수?\n",
    "# 손흥민, 트와이스 피어슨 상관계수?\n",
    "# 레드벨벳, 트와이스 피어슨 상관계수?\n",
    "\n",
    "\n",
    "def simPearson(data,name1,name2) :\n",
    "    count = sum1 = sum2 = 0      \n",
    "    for i in data[name1] :\n",
    "        if i in data[name2] :\n",
    "            count += 1\n",
    "            sum1 += data[name1][i]\n",
    "            sum2 += data[name2][i]\n",
    "    mean1 = sum1 / count \n",
    "    mean2 = sum2 / count \n",
    "    r = tcov = temp1 = temp2 = 0\n",
    "    for i in data[name1] :\n",
    "        if i in data[name2] :\n",
    "            tcov += (data[name1][i] - mean1) * (data[name2][i] - mean2)  \n",
    "            temp1 += pow(data[name1][i] - mean1 , 2) \n",
    "            temp2 += pow(data[name2][i] - mean2 , 2) \n",
    "        std1 = sqrt(temp1)\n",
    "        std2 = sqrt(temp2)\n",
    "    r = tcov/(std1*std2)\n",
    "    return r\n",
    "\n",
    "print(simPearson(critics,'BTS','손흥민'))\n",
    "print(simPearson(critics,'BTS','레드벨벳'))\n",
    "print(simPearson(critics,'BTS','트와이스'))\n",
    "print(simPearson(critics,'손흥민','레드벨벳'))\n",
    "print(simPearson(critics,'손흥민','트와이스'))\n",
    "print(simPearson(critics,'레드벨벳','트와이스'))"
   ]
  },
  {
   "cell_type": "code",
   "execution_count": 6,
   "metadata": {},
   "outputs": [
    {
     "data": {
      "text/plain": [
       "5"
      ]
     },
     "execution_count": 6,
     "metadata": {},
     "output_type": "execute_result"
    }
   ],
   "source": [
    "critics['손흥민']['바울']"
   ]
  },
  {
   "cell_type": "code",
   "execution_count": 7,
   "metadata": {},
   "outputs": [
    {
     "ename": "AttributeError",
     "evalue": "'numpy.ndarray' object has no attribute 'sqrt'",
     "output_type": "error",
     "traceback": [
      "\u001b[1;31m---------------------------------------------------------------------------\u001b[0m",
      "\u001b[1;31mAttributeError\u001b[0m                            Traceback (most recent call last)",
      "\u001b[1;32m<ipython-input-7-1cb4db90adb5>\u001b[0m in \u001b[0;36m<module>\u001b[1;34m\u001b[0m\n\u001b[0;32m      2\u001b[0m \u001b[0mb\u001b[0m \u001b[1;33m=\u001b[0m \u001b[0mnp\u001b[0m\u001b[1;33m.\u001b[0m\u001b[0marray\u001b[0m\u001b[1;33m(\u001b[0m\u001b[1;33m[\u001b[0m\u001b[1;36m3\u001b[0m\u001b[1;33m,\u001b[0m\u001b[1;36m2\u001b[0m\u001b[1;33m]\u001b[0m\u001b[1;33m)\u001b[0m\u001b[1;33m\u001b[0m\u001b[1;33m\u001b[0m\u001b[0m\n\u001b[0;32m      3\u001b[0m \u001b[0mc\u001b[0m \u001b[1;33m=\u001b[0m\u001b[0ma\u001b[0m\u001b[1;33m-\u001b[0m\u001b[0mb\u001b[0m\u001b[1;33m\u001b[0m\u001b[1;33m\u001b[0m\u001b[0m\n\u001b[1;32m----> 4\u001b[1;33m \u001b[0mc\u001b[0m\u001b[1;33m.\u001b[0m\u001b[0msqrt\u001b[0m\u001b[1;33m\u001b[0m\u001b[1;33m\u001b[0m\u001b[0m\n\u001b[0m",
      "\u001b[1;31mAttributeError\u001b[0m: 'numpy.ndarray' object has no attribute 'sqrt'"
     ]
    }
   ],
   "source": [
    "a = np.array([1,2])\n",
    "b = np.array([3,2])\n",
    "c =a-b"
   ]
  },
  {
   "cell_type": "code",
   "execution_count": 8,
   "metadata": {
    "scrolled": true
   },
   "outputs": [
    {
     "data": {
      "text/plain": [
       "{'BTS': {'암수살인': 5, '바울': 4, '할로윈': 1.5},\n",
       " '손흥민': {'바울': 5, '할로윈': 2},\n",
       " '레드벨벳': {'암수살인': 2.5, '바울': 2, '할로윈': 1},\n",
       " '트와이스': {'암수살인': 3.5, '바울': 4, '할로윈': 5}}"
      ]
     },
     "execution_count": 8,
     "metadata": {},
     "output_type": "execute_result"
    }
   ],
   "source": [
    "critics"
   ]
  },
  {
   "cell_type": "code",
   "execution_count": 9,
   "metadata": {},
   "outputs": [
    {
     "name": "stdout",
     "output_type": "stream",
     "text": [
      "0.20799159651347807\n"
     ]
    }
   ],
   "source": [
    "#다차언 공간에서의 두 사람간 유클리디안 거리 구하기\n",
    "from math import sqrt\n",
    "#'BTS':{'암수살인':5, '바울:4, '할로윈':1.5}\n",
    "def simDistance(data, name1, name2): #simDistance=유사한 정도에 대한 거리\n",
    "    sum=0\n",
    "    for i in data[name1]: #i는 BTS가 본 영화 제목(key)\n",
    "        if i in data[name2]: #\n",
    "            sum+=pow(data[name1][i]-data[name2][i],2)\n",
    "    return 1/(1+sqrt(sum))\n",
    "print(simDistance(critics, 'BTS', '트와이스'))\n",
    "    \n",
    "# for i in critics:\n",
    "#     if i != '손흥민':\n",
    "#         v1=critics['손흥민']['바울']-critics['BTS']['바울'] #x2-x1\n",
    "#         v2=critics['손흥민']['할로윈']-critics['BTS']['할로윈'] #y2-y1\n",
    "#         a"
   ]
  },
  {
   "cell_type": "code",
   "execution_count": 10,
   "metadata": {},
   "outputs": [],
   "source": [
    "def topMatch(data, name, index =2 , simFunction = simDistance):\n",
    "    res = []\n",
    "    for i in data :\n",
    "        if name != i:\n",
    "            res.append((simFunction(data, name, i),i))\n",
    "    res.sort()\n",
    "    res.reverse()\n",
    "    return res"
   ]
  },
  {
   "cell_type": "code",
   "execution_count": 11,
   "metadata": {},
   "outputs": [
    {
     "data": {
      "text/plain": [
       "[(0.4721359549995794, '손흥민'),\n",
       " (0.23582845781094, '레드벨벳'),\n",
       " (0.20799159651347807, '트와이스')]"
      ]
     },
     "execution_count": 11,
     "metadata": {},
     "output_type": "execute_result"
    }
   ],
   "source": [
    "topMatch(critics, 'BTS')"
   ]
  },
  {
   "cell_type": "code",
   "execution_count": 12,
   "metadata": {},
   "outputs": [],
   "source": [
    "import re"
   ]
  },
  {
   "cell_type": "code",
   "execution_count": 13,
   "metadata": {},
   "outputs": [
    {
     "data": {
      "text/plain": [
       "<re.Match object; span=(0, 1), match='b'>"
      ]
     },
     "execution_count": 13,
     "metadata": {},
     "output_type": "execute_result"
    }
   ],
   "source": [
    "re.match('a*b','b')"
   ]
  },
  {
   "cell_type": "code",
   "execution_count": 14,
   "metadata": {},
   "outputs": [
    {
     "data": {
      "text/plain": [
       "<re.Match object; span=(0, 3), match='abb'>"
      ]
     },
     "execution_count": 14,
     "metadata": {},
     "output_type": "execute_result"
    }
   ],
   "source": [
    "re.match('abc?b','abb')"
   ]
  },
  {
   "cell_type": "code",
   "execution_count": 15,
   "metadata": {},
   "outputs": [
    {
     "data": {
      "text/plain": [
       "<re.Match object; span=(0, 3), match='hhh'>"
      ]
     },
     "execution_count": 15,
     "metadata": {},
     "output_type": "execute_result"
    }
   ],
   "source": [
    "re.match('h{3}','hhhehhhllo')"
   ]
  },
  {
   "cell_type": "code",
   "execution_count": 16,
   "metadata": {},
   "outputs": [],
   "source": [
    "re.match('[0-9]{3}-[0-9]{4}-[0-9]{4}','0102-1234-56078')"
   ]
  },
  {
   "cell_type": "code",
   "execution_count": null,
   "metadata": {},
   "outputs": [],
   "source": []
  },
  {
   "cell_type": "code",
   "execution_count": null,
   "metadata": {},
   "outputs": [],
   "source": []
  },
  {
   "cell_type": "code",
   "execution_count": null,
   "metadata": {},
   "outputs": [],
   "source": []
  }
 ],
 "metadata": {
  "kernelspec": {
   "display_name": "Python 3",
   "language": "python",
   "name": "python3"
  },
  "language_info": {
   "codemirror_mode": {
    "name": "ipython",
    "version": 3
   },
   "file_extension": ".py",
   "mimetype": "text/x-python",
   "name": "python",
   "nbconvert_exporter": "python",
   "pygments_lexer": "ipython3",
   "version": "3.7.6"
  }
 },
 "nbformat": 4,
 "nbformat_minor": 4
}
