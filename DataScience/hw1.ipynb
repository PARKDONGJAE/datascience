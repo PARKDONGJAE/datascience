{
 "cells": [
  {
   "cell_type": "code",
   "execution_count": 3,
   "metadata": {},
   "outputs": [],
   "source": [
    "import pandas as pd\n",
    "import numpy as np\n",
    "from math import sqrt"
   ]
  },
  {
   "cell_type": "code",
   "execution_count": 4,
   "metadata": {},
   "outputs": [],
   "source": [
    "critics={\n",
    "  'BTS':{'암수살인':5, '바울':4, '할로윈':1.5},\n",
    "  '손흥민':{'바울':5, '할로윈':2},\n",
    "  '레드벨벳':{'암수살인':2.5, '바울':2, '할로윈':1},\n",
    "  '트와이스':{'암수살인':3.5, '바울':4, '할로윈':5}\n",
    "}"
   ]
  },
  {
   "cell_type": "code",
   "execution_count": 5,
   "metadata": {},
   "outputs": [],
   "source": [
    "def simDistance(data, name1, name2): #simDistance=유사한 정도에 대한 거리\n",
    "    sum=0\n",
    "    for i in data[name1]: #i는 BTS가 본 영화 제목(key)\n",
    "        if i in data[name2]: #\n",
    "            sum+=pow(data[name1][i]-data[name2][i],2)\n",
    "    return 1/(1+sqrt(sum))"
   ]
  },
  {
   "cell_type": "code",
   "execution_count": null,
   "metadata": {},
   "outputs": [],
   "source": [
    "def simDistance(data, name1, name2): #simDistance=유사한 정도에 대한 거리\n",
    "    sum=1\n",
    "    n =1 \n",
    "    for i in data[name1]: #i는 BTS가 본 영화 제목(key)\n",
    "        if i in data[name2]: #\n",
    "            sum*=(data[name1][i]-(data[name2][i]+data[name1][i])/2)\n",
    "    return "
   ]
  },
  {
   "cell_type": "code",
   "execution_count": 6,
   "metadata": {},
   "outputs": [],
   "source": [
    "def topMatch(data, name, index =2 , simFunction = simDistance):\n",
    "    res = []\n",
    "    for i in data :\n",
    "        if name != i:\n",
    "            res.append((simFunction(data, name, i),i))\n",
    "    res.sort()\n",
    "    res.reverse()\n",
    "    return res"
   ]
  },
  {
   "cell_type": "code",
   "execution_count": null,
   "metadata": {},
   "outputs": [],
   "source": []
  }
 ],
 "metadata": {
  "kernelspec": {
   "display_name": "Python 3",
   "language": "python",
   "name": "python3"
  },
  "language_info": {
   "codemirror_mode": {
    "name": "ipython",
    "version": 3
   },
   "file_extension": ".py",
   "mimetype": "text/x-python",
   "name": "python",
   "nbconvert_exporter": "python",
   "pygments_lexer": "ipython3",
   "version": "3.7.7"
  }
 },
 "nbformat": 4,
 "nbformat_minor": 4
}
