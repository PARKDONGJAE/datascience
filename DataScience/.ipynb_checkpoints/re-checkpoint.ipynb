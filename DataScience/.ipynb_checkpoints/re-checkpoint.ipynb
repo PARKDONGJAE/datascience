{
 "cells": [
  {
   "cell_type": "code",
   "execution_count": 2,
   "metadata": {},
   "outputs": [
    {
     "data": {
      "text/plain": [
       "<re.Match object; span=(0, 2), match='12'>"
      ]
     },
     "execution_count": 2,
     "metadata": {},
     "output_type": "execute_result"
    }
   ],
   "source": [
    "import re\n",
    "# re.match('[0-9]','1234')\n",
    "# #[0-9]는 0~9까지의 수를 뜻함\n",
    "# re.match('[0-9]+','1234')\n",
    "#0~9까지의 수가 1개 이상\n",
    "re.match('[0-9]*','12a34')\n",
    "# re.match('a*b','b') # a 라는 문자가 0개 이상, 즉 있어도 되고 없어도 되면서 반드시 그 뒤에 b가 있을 것\n",
    "# re.match('a+b', 'b')"
   ]
  },
  {
   "cell_type": "code",
   "execution_count": 3,
   "metadata": {},
   "outputs": [
    {
     "data": {
      "text/plain": [
       "<re.Match object; span=(0, 4), match='ab3c'>"
      ]
     },
     "execution_count": 3,
     "metadata": {},
     "output_type": "execute_result"
    }
   ],
   "source": [
    "re.match('abc?d','abd')\n",
    "#?는 ? 앞의 문자가 0개 또는 1개 있으면 매칭\n",
    "re.match('ab.d', 'abd')\n",
    "#.은 .이 있는 위치에 아무 문자나 숫자가 1개 있으면 매칭\n",
    "re.match('ab.d', 'abxd')\n",
    "re.match('ab[0-9]?c', 'ab3c')"
   ]
  },
  {
   "cell_type": "code",
   "execution_count": 9,
   "metadata": {},
   "outputs": [],
   "source": [
    "re.match('abc{3}?d','abcd')"
   ]
  },
  {
   "cell_type": "code",
   "execution_count": 3,
   "metadata": {},
   "outputs": [],
   "source": [
    "re.match('h{3}', 'hhhhhheeeelllo')\n",
    "# 문자{3} => 문자가 3개\n",
    "re.match('[0-9]{3}-[0-9]{4}-[0-9]{4}', '010-1234-5678')\n",
    "# 매칭 O\n",
    "re.match('[0-9]{3}-[0-9]{4}-[0-9]{4}', '0101-1234-5678')\n",
    "# 매칭 X"
   ]
  },
  {
   "cell_type": "code",
   "execution_count": 4,
   "metadata": {},
   "outputs": [
    {
     "name": "stdout",
     "output_type": "stream",
     "text": [
      "올바른 전화번호 형식입니다\n"
     ]
    }
   ],
   "source": [
    "res=re.match('[0-9]{3}-[0-9]{4}-[0-9]{4}', '010-1234-5678')\n",
    "if res:\n",
    "    print(\"올바른 전화번호 형식입니다\")\n",
    "else:\n",
    "    print(\"전화번호 형식이 맞지 않습니다\")\n"
   ]
  },
  {
   "cell_type": "code",
   "execution_count": null,
   "metadata": {},
   "outputs": [],
   "source": []
  }
 ],
 "metadata": {
  "kernelspec": {
   "display_name": "Python 3",
   "language": "python",
   "name": "python3"
  },
  "language_info": {
   "codemirror_mode": {
    "name": "ipython",
    "version": 3
   },
   "file_extension": ".py",
   "mimetype": "text/x-python",
   "name": "python",
   "nbconvert_exporter": "python",
   "pygments_lexer": "ipython3",
   "version": "3.7.7"
  }
 },
 "nbformat": 4,
 "nbformat_minor": 4
}
